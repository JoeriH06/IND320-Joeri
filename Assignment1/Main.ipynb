{
 "cells": [
  {
   "cell_type": "markdown",
   "id": "2357ecd2",
   "metadata": {},
   "source": [
    "<div class=\"alert alert-block alert-info\">\n",
    "\n",
    "<h1 id=\"important-information\">Important Information</h1>\n",
    "\n",
    "- All formatting in this document has been applied manually.  \n",
    "- The formatting style is based on the guidelines from:  \n",
    "  <a href=\"https://www.ibm.com/docs/en/watson-studio-local/1.2.3?topic=notebooks-markdown-jupyter-cheatsheet\" target=\"_blank\">\n",
    "  IBM Jupyter Markdown Cheatsheet\n",
    "  </a>\n",
    "- This document will include topics such as:\n",
    "    - A brief description of AI usage.\n",
    "    - A 300-500-word log describing the compulsory work.\n",
    "    - A link to my public GitHub repository and streamlit app\n",
    "    - A Table of contents with links to the place in the document\n",
    "</div>\n"
   ]
  },
  {
   "cell_type": "markdown",
   "id": "7ab52a44",
   "metadata": {},
   "source": [
    "<div class=\"alert alert-block alert-success\">\n",
    "\n",
    "<h1 id=\"TOC\"> Table Of Contents</h1>\n",
    "\n",
    "- [Important Information](#important-information)  \n",
    "- [Section 1](#section-1)  \n",
    "  - [Subsection 1.1](#subsection-11)  \n",
    "  - [Subsection 1.2](#subsection-12)  \n",
    "- [Section 2](#section-2)  \n",
    "  - [Subsection 2.1](#subsection-21)  \n",
    "- [Section 3](#section-3)  \n",
    "- [Conclusion](#conclusion)  \n",
    "\n",
    "</div>\n"
   ]
  }
 ],
 "metadata": {
  "kernelspec": {
   "display_name": "Python (datasci)",
   "language": "python",
   "name": "datasci"
  },
  "language_info": {
   "name": "python",
   "version": "3.13.7"
  }
 },
 "nbformat": 4,
 "nbformat_minor": 5
}
