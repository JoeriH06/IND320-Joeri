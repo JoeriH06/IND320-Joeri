{
 "cells": [
  {
   "cell_type": "markdown",
   "id": "2357ecd2",
   "metadata": {},
   "source": [
    "<div class=\"alert alert-block alert-info\">\n",
    "\n",
    "<h1 id=\"important-information\">Important Information</h1>\n",
    "\n",
    "- All formatting in this document has been applied manually.  \n",
    "- The formatting style is based on the guidelines from:  \n",
    "  <a href=\"https://www.ibm.com/docs/en/watson-studio-local/1.2.3?topic=notebooks-markdown-jupyter-cheatsheet\" target=\"_blank\">\n",
    "  IBM Jupyter Markdown Cheatsheet\n",
    "  </a>\n",
    "- This document will include topics such as:\n",
    "    - A brief description of AI usage.\n",
    "    - A 300-500-word log describing the compulsory work and my experience.\n",
    "    - A link to my public GitHub repository and streamlit app\n",
    "    - A Table of contents with links to the place in the document\n",
    "\n",
    "- My GitHub repository: [My GitHub Repository](https://github.com/JoeriH06/IND320)\n",
    "- My Streamlit app: [My streamlit App]()\n",
    "</div>\n"
   ]
  },
  {
   "cell_type": "markdown",
   "id": "7ab52a44",
   "metadata": {},
   "source": [
    "<div class=\"alert alert-block alert-success\">\n",
    "\n",
    "<h1 id=\"TOC\"> Table Of Contents</h1>\n",
    "\n",
    "- [Important Information](#important-information)\n",
    "- [Compulsory Introduction](#compulsory-intro)  \n",
    "- [AI usage](#AI-usage)\n",
    "- [My takeaway](#takeaway)        \n",
    "\n",
    "</div>\n"
   ]
  },
  {
   "cell_type": "markdown",
   "id": "3eac0e71",
   "metadata": {},
   "source": [
    "<div class=\"alert alert-block\">\n",
    "<h1 id=\"compulsory-intro\"> Compulsory Introduction </h1>\n",
    "\n",
    "*Compulsory assignment 1:*\n",
    "\n",
    "This compulsory assignment consists of the following sub-assignments\n",
    "***\n",
    "**GitHub & Notebook Tasks:** <br>\n",
    "* connecting your personal GitHub account with your streamlit account, and making a minimum working example of a streamlit app.\n",
    "* Making a Jupiter notebook which should be able to:\n",
    "    * Read the supplied CSV file using Pandas.\n",
    "    * Print its contents in a relevant way.\n",
    "    * Plot each column separatelty.\n",
    "    * Plot all columns together. Consider how to make this natural, given that the scales are different.\n",
    "* The Jupyter Notebook should also contain a short description about AI usage, and a description about the compulsory assignment in hand.\n",
    "***\n",
    "**Streamlit Tasks:** <br>\n",
    "* we must create a working streamlit application consisting of four pages. These pages should contain dummy headers and text for now which will be updated in a later stadium. \n",
    "\n",
    "* *Front page:*\n",
    "    The front/home page should have a working sidebar with navigation options to other pages.\n",
    "* *Second page:*\n",
    "    The second page should contain the imported data shown in a well structured table. There should be one row in the table for each column of the imported data. Also, we have to make use of the row-wise LineChartColumn() function, to display the first month of the data series.\n",
    "* *Third page:*\n",
    "    On the third page we plot a plot of the imported data, this plot will contain the right the syntaxes (header, axis titles, etc.). We will also show a drop-down menu where you can choose any single column in the CSV or all of the columns together. Lastly, we will show a selection slider to select a subset of the months, with a default month of the first month.\n",
    "* *Data:*\n",
    "    All data should be read from a local CSV-file, using caching for app speed.\n",
    "\n",
    "</div>"
   ]
  },
  {
   "cell_type": "markdown",
   "id": "2026b13a",
   "metadata": {},
   "source": [
    "<div class=\"alert alert-block\">\n",
    "<h1 id=\"ai-usage\">AI usage </h1>\n",
    "<p>\n",
    "Write about AI usage\n",
    "</p>\n",
    "</div>"
   ]
  },
  {
   "cell_type": "markdown",
   "id": "2a26355b",
   "metadata": {},
   "source": [
    "<div class=\"alert alert-block\">\n",
    "<h1 id=\"takeaway\"> My takeaway </h1>\n",
    "\n",
    "Must include a 300-500-word log describing the compulsory work (including both Jupyter Notebook and Streamlit experience).\n",
    "\n",
    "</div>"
   ]
  }
 ],
 "metadata": {
  "kernelspec": {
   "display_name": "Python (datasci)",
   "language": "python",
   "name": "datasci"
  },
  "language_info": {
   "name": "python",
   "version": "3.13.7"
  }
 },
 "nbformat": 4,
 "nbformat_minor": 5
}
